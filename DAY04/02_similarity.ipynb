{
 "cells": [
  {
   "cell_type": "code",
   "execution_count": 119,
   "metadata": {},
   "outputs": [],
   "source": [
    "# 추천 시스템\n",
    "# TF-IDF와 코사인 유사도로 추천 시스템 구현\n",
    "# 원리 : 유사한 내용 추천으로 유사도가 높은 것 찾기\n",
    "#     영화 줄거리(overview)가 비슷한 영화를 찾아주기 "
   ]
  },
  {
   "cell_type": "code",
   "execution_count": 120,
   "metadata": {},
   "outputs": [],
   "source": [
    "import pandas as pd\n",
    "from sklearn.feature_extraction.text import TfidfVectorizer\n",
    "from sklearn.metrics.pairwise import cosine_similarity"
   ]
  },
  {
   "cell_type": "code",
   "execution_count": 121,
   "metadata": {},
   "outputs": [
    {
     "name": "stdout",
     "output_type": "stream",
     "text": [
      "<class 'pandas.core.frame.DataFrame'>\n",
      "RangeIndex: 45466 entries, 0 to 45465\n",
      "Data columns (total 24 columns):\n",
      " #   Column                 Non-Null Count  Dtype  \n",
      "---  ------                 --------------  -----  \n",
      " 0   adult                  45466 non-null  object \n",
      " 1   belongs_to_collection  4494 non-null   object \n",
      " 2   budget                 45466 non-null  object \n",
      " 3   genres                 45466 non-null  object \n",
      " 4   homepage               7782 non-null   object \n",
      " 5   id                     45466 non-null  object \n",
      " 6   imdb_id                45449 non-null  object \n",
      " 7   original_language      45455 non-null  object \n",
      " 8   original_title         45466 non-null  object \n",
      " 9   overview               44512 non-null  object \n",
      " 10  popularity             45461 non-null  object \n",
      " 11  poster_path            45080 non-null  object \n",
      " 12  production_companies   45463 non-null  object \n",
      " 13  production_countries   45463 non-null  object \n",
      " 14  release_date           45379 non-null  object \n",
      " 15  revenue                45460 non-null  float64\n",
      " 16  runtime                45203 non-null  float64\n",
      " 17  spoken_languages       45460 non-null  object \n",
      " 18  status                 45379 non-null  object \n",
      " 19  tagline                20412 non-null  object \n",
      " 20  title                  45460 non-null  object \n",
      " 21  video                  45460 non-null  object \n",
      " 22  vote_average           45460 non-null  float64\n",
      " 23  vote_count             45460 non-null  float64\n",
      "dtypes: float64(4), object(20)\n",
      "memory usage: 8.3+ MB\n"
     ]
    }
   ],
   "source": [
    "# 데이터 준비\n",
    "dataDF1 = pd.read_csv(\"movies_metadata.csv\", low_memory=False)\n",
    "dataDF1.info()"
   ]
  },
  {
   "cell_type": "code",
   "execution_count": 122,
   "metadata": {},
   "outputs": [],
   "source": [
    "dataDF1 = dataDF1.dropna(subset=[\"id\",\"title\",\"overview\"]).reset_index(drop=True) # 결측치 제거 "
   ]
  },
  {
   "cell_type": "code",
   "execution_count": 123,
   "metadata": {},
   "outputs": [],
   "source": [
    "# 10000개 데이터만 사용\n",
    "dataDF2 = dataDF1.head(10000)[[\"id\",\"title\",\"overview\"]]"
   ]
  },
  {
   "cell_type": "code",
   "execution_count": 124,
   "metadata": {},
   "outputs": [
    {
     "name": "stdout",
     "output_type": "stream",
     "text": [
      "4\n"
     ]
    }
   ],
   "source": [
    "title_to_index = dict(zip(dataDF2['title'], dataDF2.index))\n",
    "# 영화 제목 Father of the Bride Part II의 인덱스를 리턴\n",
    "idx = title_to_index['Father of the Bride Part II']\n",
    "print(idx)"
   ]
  },
  {
   "cell_type": "code",
   "execution_count": 125,
   "metadata": {},
   "outputs": [],
   "source": [
    "# TF-IDF\n",
    "tfidf = TfidfVectorizer(stop_words='english')\n",
    "tfidf_matrix = tfidf.fit_transform(dataDF2['overview'])\n",
    "cosine_sim = cosine_similarity(X=tfidf_matrix, Y=tfidf_matrix)"
   ]
  },
  {
   "cell_type": "code",
   "execution_count": 126,
   "metadata": {},
   "outputs": [
    {
     "name": "stdout",
     "output_type": "stream",
     "text": [
      "TF-IDF 행렬의 크기(shape) : (10000, 32382)\n",
      "코사인 유사도 연산 결과 : (10000, 10000)\n"
     ]
    }
   ],
   "source": [
    "print(f'TF-IDF 행렬의 크기(shape) : {tfidf_matrix.shape}')\n",
    "print(f'코사인 유사도 연산 결과 : {cosine_sim.shape}')"
   ]
  },
  {
   "cell_type": "code",
   "execution_count": 127,
   "metadata": {},
   "outputs": [
    {
     "data": {
      "text/plain": [
       "array([0., 0., 0., ..., 0., 0., 0.])"
      ]
     },
     "execution_count": 127,
     "metadata": {},
     "output_type": "execute_result"
    }
   ],
   "source": [
    "import numpy as np\n",
    "\n",
    "tfidf_matrix.toarray()[0]"
   ]
  },
  {
   "cell_type": "code",
   "execution_count": 128,
   "metadata": {},
   "outputs": [
    {
     "data": {
      "text/plain": [
       "(array([[1.        , 0.01683474, 0.        , ..., 0.        , 0.        ,\n",
       "         0.        ],\n",
       "        [0.01683474, 1.        , 0.04873996, ..., 0.        , 0.        ,\n",
       "         0.        ],\n",
       "        [0.        , 0.04873996, 1.        , ..., 0.        , 0.        ,\n",
       "         0.        ],\n",
       "        ...,\n",
       "        [0.        , 0.        , 0.00686403, ..., 0.        , 0.        ,\n",
       "         0.        ],\n",
       "        [0.        , 0.1072663 , 0.        , ..., 0.        , 0.        ,\n",
       "         0.        ],\n",
       "        [0.        , 0.        , 0.        , ..., 0.        , 0.        ,\n",
       "         0.        ]]),\n",
       " 0                       Toy Story\n",
       " 1                         Jumanji\n",
       " 2                Grumpier Old Men\n",
       " 3               Waiting to Exhale\n",
       " 4     Father of the Bride Part II\n",
       " 5                            Heat\n",
       " 6                         Sabrina\n",
       " 7                    Tom and Huck\n",
       " 8                    Sudden Death\n",
       " 9                       GoldenEye\n",
       " 10         The American President\n",
       " Name: title, dtype: object)"
      ]
     },
     "execution_count": 128,
     "metadata": {},
     "output_type": "execute_result"
    }
   ],
   "source": [
    "cosine_sim[:10], dataDF2.loc[:10, \"title\"]"
   ]
  },
  {
   "cell_type": "code",
   "execution_count": 137,
   "metadata": {},
   "outputs": [
    {
     "data": {
      "text/html": [
       "<div>\n",
       "<style scoped>\n",
       "    .dataframe tbody tr th:only-of-type {\n",
       "        vertical-align: middle;\n",
       "    }\n",
       "\n",
       "    .dataframe tbody tr th {\n",
       "        vertical-align: top;\n",
       "    }\n",
       "\n",
       "    .dataframe thead th {\n",
       "        text-align: right;\n",
       "    }\n",
       "</style>\n",
       "<table border=\"1\" class=\"dataframe\">\n",
       "  <thead>\n",
       "    <tr style=\"text-align: right;\">\n",
       "      <th></th>\n",
       "      <th>title</th>\n",
       "      <th>genres</th>\n",
       "    </tr>\n",
       "  </thead>\n",
       "  <tbody>\n",
       "    <tr>\n",
       "      <th>6769</th>\n",
       "      <td>Father of the Bride</td>\n",
       "      <td>[{'id': 35, 'name': 'Comedy'}, {'id': 10749, '...</td>\n",
       "    </tr>\n",
       "    <tr>\n",
       "      <th>6547</th>\n",
       "      <td>Kuffs</td>\n",
       "      <td>[{'id': 28, 'name': 'Action'}, {'id': 35, 'nam...</td>\n",
       "    </tr>\n",
       "    <tr>\n",
       "      <th>6282</th>\n",
       "      <td>North to Alaska</td>\n",
       "      <td>[{'id': 37, 'name': 'Western'}]</td>\n",
       "    </tr>\n",
       "    <tr>\n",
       "      <th>4984</th>\n",
       "      <td>Wendigo</td>\n",
       "      <td>[{'id': 27, 'name': 'Horror'}]</td>\n",
       "    </tr>\n",
       "    <tr>\n",
       "      <th>7073</th>\n",
       "      <td>The Out of Towners</td>\n",
       "      <td>[{'id': 35, 'name': 'Comedy'}]</td>\n",
       "    </tr>\n",
       "    <tr>\n",
       "      <th>914</th>\n",
       "      <td>It's a Wonderful Life</td>\n",
       "      <td>[{'id': 18, 'name': 'Drama'}, {'id': 10751, 'n...</td>\n",
       "    </tr>\n",
       "    <tr>\n",
       "      <th>5550</th>\n",
       "      <td>All Night Long</td>\n",
       "      <td>[{'id': 35, 'name': 'Comedy'}, {'id': 10749, '...</td>\n",
       "    </tr>\n",
       "    <tr>\n",
       "      <th>5728</th>\n",
       "      <td>Another You</td>\n",
       "      <td>[{'id': 35, 'name': 'Comedy'}, {'id': 18, 'nam...</td>\n",
       "    </tr>\n",
       "    <tr>\n",
       "      <th>1500</th>\n",
       "      <td>George of the Jungle</td>\n",
       "      <td>[{'id': 12, 'name': 'Adventure'}, {'id': 35, '...</td>\n",
       "    </tr>\n",
       "    <tr>\n",
       "      <th>6789</th>\n",
       "      <td>Journeys with George</td>\n",
       "      <td>[]</td>\n",
       "    </tr>\n",
       "  </tbody>\n",
       "</table>\n",
       "</div>"
      ],
      "text/plain": [
       "                      title                                             genres\n",
       "6769    Father of the Bride  [{'id': 35, 'name': 'Comedy'}, {'id': 10749, '...\n",
       "6547                  Kuffs  [{'id': 28, 'name': 'Action'}, {'id': 35, 'nam...\n",
       "6282        North to Alaska                    [{'id': 37, 'name': 'Western'}]\n",
       "4984                Wendigo                     [{'id': 27, 'name': 'Horror'}]\n",
       "7073     The Out of Towners                     [{'id': 35, 'name': 'Comedy'}]\n",
       "914   It's a Wonderful Life  [{'id': 18, 'name': 'Drama'}, {'id': 10751, 'n...\n",
       "5550         All Night Long  [{'id': 35, 'name': 'Comedy'}, {'id': 10749, '...\n",
       "5728            Another You  [{'id': 35, 'name': 'Comedy'}, {'id': 18, 'nam...\n",
       "1500   George of the Jungle  [{'id': 12, 'name': 'Adventure'}, {'id': 35, '...\n",
       "6789   Journeys with George                                                 []"
      ]
     },
     "execution_count": 137,
     "metadata": {},
     "output_type": "execute_result"
    }
   ],
   "source": [
    "sim_scores = list(enumerate(cosine_sim[idx])) # 리스트 생성\n",
    "#print(sim_scores)\n",
    "\n",
    "sim_scores = sorted(sim_scores, key=lambda x: x[1], reverse=True) # 유사도가 제일 높은 것으로 정렬\n",
    "#print(sim_scores)\n",
    "\n",
    "sim_scores = sim_scores[1:11] # 성적 중에서 2등~11등만 뽑아옴(1등은 자기 자신이니까 제외한다)\n",
    "movie_indices = [i[0] for i in sim_scores]\n",
    "\n",
    "dataDF1[['title','genres']].iloc[movie_indices]"
   ]
  },
  {
   "cell_type": "code",
   "execution_count": 141,
   "metadata": {},
   "outputs": [
    {
     "data": {
      "text/plain": [
       "\"[{'id': 35, 'name': 'Comedy'}, {'id': 10749, 'name': 'Romance'}]\""
      ]
     },
     "execution_count": 141,
     "metadata": {},
     "output_type": "execute_result"
    }
   ],
   "source": [
    "dataDF1['genres'].iloc[movie_indices[0]]"
   ]
  },
  {
   "cell_type": "code",
   "execution_count": null,
   "metadata": {},
   "outputs": [],
   "source": []
  }
 ],
 "metadata": {
  "kernelspec": {
   "display_name": "NLP",
   "language": "python",
   "name": "python3"
  },
  "language_info": {
   "codemirror_mode": {
    "name": "ipython",
    "version": 3
   },
   "file_extension": ".py",
   "mimetype": "text/x-python",
   "name": "python",
   "nbconvert_exporter": "python",
   "pygments_lexer": "ipython3",
   "version": "3.8.19"
  }
 },
 "nbformat": 4,
 "nbformat_minor": 2
}
