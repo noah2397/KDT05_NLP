{
 "cells": [
  {
   "cell_type": "code",
   "execution_count": 11,
   "metadata": {},
   "outputs": [],
   "source": [
    "# 자모 단위 토큰화 : 자음과 모음으로 토큰화 \n",
    "# 추가 라이브러리 설치\n",
    "# !pip install jamo\n",
    "import jamo\n",
    "msg=\"좋은 날\"\n",
    "# 완성형 단어 => 조합형으로 변환\n",
    "result1=jamo.h2j(msg)"
   ]
  },
  {
   "cell_type": "code",
   "execution_count": 12,
   "metadata": {},
   "outputs": [
    {
     "data": {
      "text/plain": [
       "'좋은 날'"
      ]
     },
     "execution_count": 12,
     "metadata": {},
     "output_type": "execute_result"
    }
   ],
   "source": [
    "result1"
   ]
  },
  {
   "cell_type": "code",
   "execution_count": 13,
   "metadata": {},
   "outputs": [],
   "source": [
    "# 조합형 단어를 자모형으로 반환\n",
    "result2=jamo.j2hcj(result1)"
   ]
  },
  {
   "cell_type": "code",
   "execution_count": 14,
   "metadata": {},
   "outputs": [
    {
     "data": {
      "text/plain": [
       "'ㅈㅗㅎㅇㅡㄴ ㄴㅏㄹ'"
      ]
     },
     "execution_count": 14,
     "metadata": {},
     "output_type": "execute_result"
    }
   ],
   "source": [
    "result2"
   ]
  },
  {
   "cell_type": "code",
   "execution_count": 16,
   "metadata": {},
   "outputs": [],
   "source": [
    "# 다양한 한국어 형태소 분석기\n",
    "from konlpy.tag import Okt\n",
    "\n",
    "# 인스턴스 생성\n",
    "okt = Okt()\n",
    "\n",
    "msg = \"오늘 저녁에 실증랩에서 PC 성능 테스트를 진행할 예정입니다.\""
   ]
  },
  {
   "cell_type": "code",
   "execution_count": 19,
   "metadata": {},
   "outputs": [
    {
     "name": "stdout",
     "output_type": "stream",
     "text": [
      "[명사] =>  ['오늘', '저녁', '실증', '랩', '성능', '테스트', '진행', '예정']\n",
      "[형태소] =>  ['오늘', '저녁', '에', '실증', '랩', '에서', 'PC', '성능', '테스트', '를', '진행', '할', '예정', '입니다', '.']\n",
      "[구문] =>  ['오늘', '오늘 저녁', '실증랩', 'PC', 'PC 성능', 'PC 성능 테스트', '진행', '진행할 예정', '저녁', '실증', '성능', '테스트', '예정']\n",
      "[품사] =>  [('오늘', 'Noun'), ('저녁', 'Noun'), ('에', 'Josa'), ('실증', 'Noun'), ('랩', 'Noun'), ('에서', 'Josa'), ('PC', 'Alpha'), ('성능', 'Noun'), ('테스트', 'Noun'), ('를', 'Josa'), ('진행', 'Noun'), ('할', 'Verb'), ('예정', 'Noun'), ('입니다', 'Adjective'), ('.', 'Punctuation')]\n"
     ]
    }
   ],
   "source": [
    "# 명사, 형태소, 문장, 품사 분석\n",
    "print('[명사] => ', okt.nouns(msg))\n",
    "print('[형태소] => ', okt.morphs(msg))\n",
    "print('[구문] => ', okt.phrases(msg))\n",
    "print('[품사] => ', okt.pos(msg))"
   ]
  },
  {
   "cell_type": "code",
   "execution_count": 20,
   "metadata": {},
   "outputs": [
    {
     "name": "stdout",
     "output_type": "stream",
     "text": [
      "[명사] =>  ['오늘', '저녁', '실증', '실증랩', '랩', '성능', '테스트', '진행', '예정']\n",
      "[형태소] =>  ['오늘', '저녁', '에', '실증', '랩', '에서', 'PC', '성능', '테스트', '를', '진행', '하', 'ㄹ', '예정', '이', 'ㅂ니다', '.']\n",
      "[구문] =>  ['오늘 저녁에 실증 랩에서 PC 성능 테스트를 진행할 예정입니다.']\n",
      "[품사] =>  [('오늘', 'NNG'), ('저녁', 'NNG'), ('에', 'JKM'), ('실증', 'NNG'), ('랩', 'NNG'), ('에서', 'JKM'), ('PC', 'OL'), ('성능', 'NNG'), ('테스트', 'NNG'), ('를', 'JKO'), ('진행', 'NNG'), ('하', 'XSV'), ('ㄹ', 'ETD'), ('예정', 'NNG'), ('이', 'VCP'), ('ㅂ니다', 'EFN'), ('.', 'SF')]\n"
     ]
    }
   ],
   "source": [
    "from konlpy.tag import Kkma\n",
    "\n",
    "# 인스턴스 생성\n",
    "kkma = Kkma()\n",
    "\n",
    "msg = \"오늘 저녁에 실증랩에서 PC 성능 테스트를 진행할 예정입니다.\"\n",
    "# 명사, 형태소, 문장, 품사 분석\n",
    "print('[명사] => ', kkma.nouns(msg))\n",
    "print('[형태소] => ', kkma.morphs(msg))\n",
    "print('[구문] => ', kkma.sentences(msg))\n",
    "print('[품사] => ', kkma.pos(msg))"
   ]
  },
  {
   "cell_type": "code",
   "execution_count": 21,
   "metadata": {},
   "outputs": [
    {
     "name": "stdout",
     "output_type": "stream",
     "text": [
      "[명사] =>  ['오늘', '저녁', '실증랩', '성능', '테스트', '진행', '예정']\n",
      "[형태소] =>  ['오늘', '저녁', '에', '실증랩', '에서', 'PC', '성능', '테스트', '를', '진행', '하', 'ㄹ', '예정', '이', 'ㅂ니다', '.']\n",
      "[구문] =>  [[[('오늘', 'ncn')], [('오늘', 'mag')]], [[('저녁', 'ncn'), ('에', 'jca')]], [[('실증', 'ncpa'), ('랩', 'ncn'), ('에서', 'jca')]], [[('PC', 'f')]], [[('성능', 'ncn')]], [[('테스트', 'ncpa'), ('를', 'jco')]], [[('진행', 'ncpa'), ('하', 'xsva'), ('ㄹ', 'etm')]], [[('예정', 'ncn'), ('이', 'jp'), ('ㅂ니다', 'ef')], [('예정', 'ncpa'), ('이', 'jp'), ('ㅂ니다', 'ef')]], [[('.', 'sf')], [('.', 'sy')]]]\n",
      "[품사] =>  [('오늘', 'N'), ('저녁', 'N'), ('에', 'J'), ('실증랩', 'N'), ('에서', 'J'), ('PC', 'F'), ('성능', 'N'), ('테스트', 'N'), ('를', 'J'), ('진행', 'N'), ('하', 'X'), ('ㄹ', 'E'), ('예정', 'N'), ('이', 'J'), ('ㅂ니다', 'E'), ('.', 'S')]\n"
     ]
    }
   ],
   "source": [
    "from konlpy.tag import Hannanum\n",
    "\n",
    "# 인스턴스 생성\n",
    "hannanum = Hannanum()\n",
    "\n",
    "msg = \"오늘 저녁에 실증랩에서 PC 성능 테스트를 진행할 예정입니다.\"\n",
    "# 명사, 형태소, 문장, 품사 분석\n",
    "print('[명사] => ', hannanum.nouns(msg))\n",
    "print('[형태소] => ', hannanum.morphs(msg))\n",
    "print('[구문] => ', hannanum.analyze(msg))\n",
    "print('[품사] => ', hannanum.pos(msg))"
   ]
  },
  {
   "cell_type": "code",
   "execution_count": 22,
   "metadata": {},
   "outputs": [
    {
     "name": "stdout",
     "output_type": "stream",
     "text": [
      "[명사] =>  ['오늘', '저녁', '실증', '랩', '성능', '테스트', '진행', '예정']\n",
      "[형태소] =>  ['오늘', '저녁', '에', '실증', '랩', '에서', 'PC', '성능', '테스트', '를', '진행', '하', 'ㄹ', '예정', '이', 'ㅂ니다', '.']\n",
      "[품사] =>  [('오늘', 'NNG'), ('저녁', 'NNG'), ('에', 'JKB'), ('실증', 'NNG'), ('랩', 'NNG'), ('에서', 'JKB'), ('PC', 'SL'), ('성능', 'NNP'), ('테스트', 'NNP'), ('를', 'JKO'), ('진행', 'NNG'), ('하', 'XSV'), ('ㄹ', 'ETM'), ('예정', 'NNG'), ('이', 'VCP'), ('ㅂ니다', 'EF'), ('.', 'SF')]\n"
     ]
    }
   ],
   "source": [
    "from konlpy.tag import Komoran\n",
    "\n",
    "# 인스턴스 생성\n",
    "komoran = Komoran()\n",
    "\n",
    "msg = \"오늘 저녁에 실증랩에서 PC 성능 테스트를 진행할 예정입니다.\"\n",
    "# 명사, 형태소, 문장, 품사 분석\n",
    "print('[명사] => ', komoran.nouns(msg))\n",
    "print('[형태소] => ', komoran.morphs(msg))\n",
    "print('[품사] => ', komoran.pos(msg))"
   ]
  },
  {
   "cell_type": "code",
   "execution_count": 25,
   "metadata": {},
   "outputs": [
    {
     "name": "stdout",
     "output_type": "stream",
     "text": [
      "[단어 단위] ['Happy', 'New', 'Year', '!', 'Merry', 'Christmas', '!']\n",
      "[문장 단위] ['Happy New Year!', 'Merry Christmas!']\n"
     ]
    }
   ],
   "source": [
    "from nltk import tokenize\n",
    "\n",
    "msg=\"Happy New Year! Merry Christmas!\"\n",
    "\n",
    "result1 = tokenize.word_tokenize(msg)\n",
    "\n",
    "result2 = tokenize.sent_tokenize(msg)\n",
    "\n",
    "print(f\"[단어 단위] {result1}\")\n",
    "print(f\"[문장 단위] {result2}\")"
   ]
  },
  {
   "cell_type": "code",
   "execution_count": 27,
   "metadata": {},
   "outputs": [
    {
     "data": {
      "text/plain": [
       "['Happy', 'New', 'Year', '!', 'Merry', 'Christmas', '!']"
      ]
     },
     "execution_count": 27,
     "metadata": {},
     "output_type": "execute_result"
    }
   ],
   "source": [
    "punctokenize = tokenize.WordPunctTokenizer()\n",
    "punctokenize.tokenize(msg)"
   ]
  },
  {
   "cell_type": "code",
   "execution_count": 28,
   "metadata": {},
   "outputs": [
    {
     "data": {
      "text/plain": [
       "'!\"#$%&\\'()*+,-./:;<=>?@[\\\\]^_`{|}~'"
      ]
     },
     "execution_count": 28,
     "metadata": {},
     "output_type": "execute_result"
    }
   ],
   "source": [
    "import string\n",
    "string.punctuation # 불용어 선정 가능 "
   ]
  },
  {
   "cell_type": "code",
   "execution_count": null,
   "metadata": {},
   "outputs": [],
   "source": []
  }
 ],
 "metadata": {
  "kernelspec": {
   "display_name": "NLP",
   "language": "python",
   "name": "python3"
  },
  "language_info": {
   "codemirror_mode": {
    "name": "ipython",
    "version": 3
   },
   "file_extension": ".py",
   "mimetype": "text/x-python",
   "name": "python",
   "nbconvert_exporter": "python",
   "pygments_lexer": "ipython3",
   "version": "3.8.19"
  }
 },
 "nbformat": 4,
 "nbformat_minor": 2
}
