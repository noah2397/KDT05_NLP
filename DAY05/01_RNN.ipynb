{
 "cells": [
  {
   "cell_type": "code",
   "execution_count": 70,
   "metadata": {},
   "outputs": [],
   "source": [
    "import torch.nn as nn\n",
    "import torch"
   ]
  },
  {
   "cell_type": "code",
   "execution_count": 80,
   "metadata": {},
   "outputs": [
    {
     "data": {
      "text/plain": [
       "(torch.Size([7, 10, 20]), torch.Size([3, 10, 20]))"
      ]
     },
     "execution_count": 80,
     "metadata": {},
     "output_type": "execute_result"
    }
   ],
   "source": [
    "# 설계 : 다층 RNN, 층 2개 \n",
    "\n",
    "input = torch.randn(7, 10, 10) # 10개의 단어가 한 문장(=배치크기)이고, 7문장이 있다, feature는 10이다\n",
    "h0 = torch.randn(3, 10, 20) # 3개의 층을 가지고, 배치크기는 10 hidden_size(셀 개수)는 20이다\n",
    "\n",
    "rnn = nn.RNN(10, 20, 3) # feature가 10개, hidden_size는 20개, 층은 3개\n",
    "\n",
    "output, hn = rnn(input, h0)\n",
    "output.shape, hn.shape # h0과 hn의 크기는 동일, output의 크기는 (시퀸스길이, 배치크기, hidden_size)"
   ]
  },
  {
   "cell_type": "code",
   "execution_count": 81,
   "metadata": {},
   "outputs": [
    {
     "name": "stdout",
     "output_type": "stream",
     "text": [
      "[weight_ih_l0] : torch.Size([20, 10])\n",
      "[weight_hh_l0] : torch.Size([20, 20])\n",
      "[bias_ih_l0] : torch.Size([20])\n",
      "[bias_hh_l0] : torch.Size([20])\n",
      "[weight_ih_l1] : torch.Size([20, 20])\n",
      "[weight_hh_l1] : torch.Size([20, 20])\n",
      "[bias_ih_l1] : torch.Size([20])\n",
      "[bias_hh_l1] : torch.Size([20])\n",
      "[weight_ih_l2] : torch.Size([20, 20])\n",
      "[weight_hh_l2] : torch.Size([20, 20])\n",
      "[bias_ih_l2] : torch.Size([20])\n",
      "[bias_hh_l2] : torch.Size([20])\n"
     ]
    }
   ],
   "source": [
    "## rnn 모델의 속성 출력\n",
    "import numpy as np\n",
    "\n",
    "for name, param in rnn.named_parameters():\n",
    "    print(f'[{name}] : {param.size()}')"
   ]
  },
  {
   "cell_type": "code",
   "execution_count": 82,
   "metadata": {},
   "outputs": [
    {
     "data": {
      "text/plain": [
       "=================================================================\n",
       "Layer (type:depth-idx)                   Param #\n",
       "=================================================================\n",
       "RNN                                      2,320\n",
       "=================================================================\n",
       "Total params: 2,320\n",
       "Trainable params: 2,320\n",
       "Non-trainable params: 0\n",
       "================================================================="
      ]
     },
     "execution_count": 82,
     "metadata": {},
     "output_type": "execute_result"
    }
   ],
   "source": [
    "from torchinfo import summary\n",
    "summary(model=rnn)"
   ]
  },
  {
   "cell_type": "markdown",
   "metadata": {},
   "source": [
    "[weight_ih_l0] : torch.Size([2, 10])    \n",
    "\n",
    "첫 번째 값은 입력에 대한 가중치 행렬(W_ih)입니다.    \n",
    "Shape은 (2, 10)으로, 이는 입력 차원이 10이고, 은닉 상태의 크기가 2임을 의미합니다.    \n",
    "이 행렬은 입력과 은닉 상태 간의 선형 변환을 나타냅니다.    \n",
    "\n",
    "[weight_hh_l0] : torch.Size([2, 2])    \n",
    "\n",
    "두 번째 값은 은닉 상태에 대한 가중치 행렬(W_hh)입니다.    \n",
    "Shape은 (2, 2)로, 은닉 상태의 크기가 2임을 의미합니다.    \n",
    "이 행렬은 이전 은닉 상태와 현재 은닉 상태 사이의 선형 변환을 나타냅니다.    \n",
    "\n",
    "[bias_ih_l0] : torch.Size([2])    \n",
    "\n",
    "세 번째 값은 입력에 대한 편향(b_ih)입니다.    \n",
    "Shape은 (2,)로, 입력 차원과 동일한 크기를 가지고 있습니다.    \n",
    "이 값은 입력에 더해지는 편향을 나타냅니다.    \n",
    "\n",
    "[bias_hh_l0] : torch.Size([2])    \n",
    "\n",
    "네 번째 값은 은닉 상태에 대한 편향(b_hh)입니다.    \n",
    "Shape은 (2,)로, 은닉 상태의 크기와 동일합니다.    \n",
    "이 값은 은닉 상태에 더해지는 편향을 나타냅니다.    "
   ]
  },
  {
   "cell_type": "code",
   "execution_count": 89,
   "metadata": {},
   "outputs": [
    {
     "data": {
      "text/plain": [
       "(torch.Size([7, 10, 20]), torch.Size([3, 10, 20]))"
      ]
     },
     "execution_count": 89,
     "metadata": {},
     "output_type": "execute_result"
    }
   ],
   "source": [
    "input = torch.randn(7, 10, 10) # 시퀸스(=1문장당 단어수),      배치사이즈(=시퀸스길이, 문장 수) , 피쳐수(=단어 종류 개수)\n",
    "\n",
    "h0 = torch.randn(3, 10, 20)    # 양방향*층수(=은닉 상태 개수), 배치사이즈(=시퀸스길이, 문장 수),  히든사이즈(=셀개수)\n",
    "\n",
    "rnn = nn.RNN(10, 20, 3)        # 피쳐수(=단어 종류 개수),      히든사이즈(=셀개수),              양방향*층수(=은닉 상태 개수)\n",
    "\n",
    "output, hn = rnn(input, h0)\n",
    "output.shape, hn.shape "
   ]
  }
 ],
 "metadata": {
  "kernelspec": {
   "display_name": "TEXT_017_220_38",
   "language": "python",
   "name": "python3"
  },
  "language_info": {
   "codemirror_mode": {
    "name": "ipython",
    "version": 3
   },
   "file_extension": ".py",
   "mimetype": "text/x-python",
   "name": "python",
   "nbconvert_exporter": "python",
   "pygments_lexer": "ipython3",
   "version": "3.8.19"
  }
 },
 "nbformat": 4,
 "nbformat_minor": 2
}
