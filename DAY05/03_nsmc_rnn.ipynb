{
 "cells": [
  {
   "cell_type": "code",
   "execution_count": 17,
   "id": "1f8e1c7d",
   "metadata": {},
   "outputs": [],
   "source": [
    "from torch import nn\n",
    "\n",
    "\n",
    "class SentenceClassifier(nn.Module):\n",
    "    def __init__(\n",
    "        self,\n",
    "        n_vocab,\n",
    "        hidden_dim,\n",
    "        embedding_dim,\n",
    "        n_layers,\n",
    "        dropout=0.5,\n",
    "        bidirectional=True,\n",
    "        model_type=\"lstm\"\n",
    "    ):\n",
    "        super().__init__()\n",
    "\n",
    "        self.embedding = nn.Embedding(\n",
    "            num_embeddings=n_vocab,\n",
    "            embedding_dim=embedding_dim,\n",
    "            padding_idx=0\n",
    "        )\n",
    "        if model_type == \"rnn\":\n",
    "            self.model = nn.RNN(\n",
    "                input_size=embedding_dim,\n",
    "                hidden_size=hidden_dim,\n",
    "                num_layers=n_layers,\n",
    "                bidirectional=bidirectional,\n",
    "                dropout=dropout,\n",
    "                batch_first=True,\n",
    "            )\n",
    "        elif model_type == \"lstm\":\n",
    "            self.model = nn.LSTM(\n",
    "                input_size=embedding_dim,\n",
    "                hidden_size=hidden_dim,\n",
    "                num_layers=n_layers,\n",
    "                bidirectional=bidirectional,\n",
    "                dropout=dropout,\n",
    "                batch_first=True,\n",
    "            )\n",
    "\n",
    "        if bidirectional:\n",
    "            self.classifier = nn.Linear(hidden_dim * 2, 1)\n",
    "        else:\n",
    "            self.classifier = nn.Linear(hidden_dim, 1)\n",
    "        self.dropout = nn.Dropout(dropout)\n",
    "\n",
    "    def forward(self, inputs):\n",
    "        embeddings = self.embedding(inputs)\n",
    "        output, _ = self.model(embeddings)\n",
    "        last_output = output[:, -1, :]\n",
    "        last_output = self.dropout(last_output)\n",
    "        logits = self.classifier(last_output)\n",
    "        return logits"
   ]
  },
  {
   "cell_type": "code",
   "execution_count": 18,
   "id": "c5f61d2a-a53b-4e37-b118-927bb59d346b",
   "metadata": {},
   "outputs": [
    {
     "name": "stdout",
     "output_type": "stream",
     "text": [
      "\n",
      "    Korpora 는 다른 분들이 연구 목적으로 공유해주신 말뭉치들을\n",
      "    손쉽게 다운로드, 사용할 수 있는 기능만을 제공합니다.\n",
      "\n",
      "    말뭉치들을 공유해 주신 분들에게 감사드리며, 각 말뭉치 별 설명과 라이센스를 공유 드립니다.\n",
      "    해당 말뭉치에 대해 자세히 알고 싶으신 분은 아래의 description 을 참고,\n",
      "    해당 말뭉치를 연구/상용의 목적으로 이용하실 때에는 아래의 라이센스를 참고해 주시기 바랍니다.\n",
      "\n",
      "    # Description\n",
      "    Author : e9t@github\n",
      "    Repository : https://github.com/e9t/nsmc\n",
      "    References : www.lucypark.kr/docs/2015-pyconkr/#39\n",
      "\n",
      "    Naver sentiment movie corpus v1.0\n",
      "    This is a movie review dataset in the Korean language.\n",
      "    Reviews were scraped from Naver Movies.\n",
      "\n",
      "    The dataset construction is based on the method noted in\n",
      "    [Large movie review dataset][^1] from Maas et al., 2011.\n",
      "\n",
      "    [^1]: http://ai.stanford.edu/~amaas/data/sentiment/\n",
      "\n",
      "    # License\n",
      "    CC0 1.0 Universal (CC0 1.0) Public Domain Dedication\n",
      "    Details in https://creativecommons.org/publicdomain/zero/1.0/\n",
      "\n",
      "[Korpora] Corpus `nsmc` is already installed at C:\\Users\\mathn\\Korpora\\nsmc\\ratings_train.txt\n",
      "[Korpora] Corpus `nsmc` is already installed at C:\\Users\\mathn\\Korpora\\nsmc\\ratings_test.txt\n"
     ]
    }
   ],
   "source": [
    "import pandas as pd\n",
    "from Korpora import Korpora\n",
    "\n",
    "\n",
    "corpus = Korpora.load(\"nsmc\")\n",
    "corpus_df = pd.DataFrame(corpus.test)"
   ]
  },
  {
   "cell_type": "code",
   "execution_count": 19,
   "id": "0a11418e",
   "metadata": {},
   "outputs": [],
   "source": [
    "train = corpus_df.sample(frac=0.9, random_state=42)\n",
    "test = corpus_df.drop(train.index)"
   ]
  },
  {
   "cell_type": "code",
   "execution_count": 20,
   "id": "42721982",
   "metadata": {},
   "outputs": [
    {
     "name": "stdout",
     "output_type": "stream",
     "text": [
      "모든 편견을 날려 버리는 가슴 따뜻한 영화. 로버트 드 니로, 필립 세이모어 호프만 영원하라.\n"
     ]
    }
   ],
   "source": [
    "for i in train.text:\n",
    "    print(i)\n",
    "    break"
   ]
  },
  {
   "cell_type": "code",
   "execution_count": 21,
   "id": "782f7309",
   "metadata": {},
   "outputs": [
    {
     "name": "stdout",
     "output_type": "stream",
     "text": [
      "1\n"
     ]
    }
   ],
   "source": [
    "for i in train.label:\n",
    "    print(i)\n",
    "    break"
   ]
  },
  {
   "cell_type": "code",
   "execution_count": 22,
   "id": "420cde3f",
   "metadata": {},
   "outputs": [],
   "source": [
    "from konlpy.tag import Okt\n",
    "from collections import Counter\n",
    "\n",
    "# 데이터 토큰화 및 단어 사전 구축 \n",
    "def build_vocab(corpus, n_vocab, special_tokens):\n",
    "    counter = Counter()\n",
    "    for tokens in corpus:\n",
    "        counter.update(tokens)\n",
    "    vocab = special_tokens\n",
    "    for token, count in counter.most_common(n_vocab):\n",
    "        vocab.append(token)\n",
    "    return vocab\n",
    "\n",
    "\n",
    "tokenizer = Okt()\n",
    "train_tokens = [tokenizer.morphs(review) for review in train.text]\n",
    "test_tokens = [tokenizer.morphs(review) for review in test.text]\n",
    "\n",
    "vocab = build_vocab(corpus=train_tokens, n_vocab=5000, special_tokens=[\"<pad>\", \"<unk>\"])\n"
   ]
  },
  {
   "cell_type": "code",
   "execution_count": 42,
   "id": "5136d60c",
   "metadata": {},
   "outputs": [],
   "source": [
    "stop_words = [\n",
    "    \"너무\", \"는데\", \"정말\", \"으로\", \"ㄴ다\", \"어요\", \"진짜\", \"에서\", \"네요\", \"지만\", \"아니\",\n",
    "    \"만들\", \"아서\", \"나오\", \"ㅂ니다\", \"이런\", \"습니다\", \"보다\", \"까지\", \"어서\", \"그냥\",\n",
    "    \"이렇\", \"아도\", \"ㄴ데\", \"이것\", \"ㄴ가\", \"라고\", \"다시\", \"면서\", \"모르\", \"보이\",\n",
    "    \"이건\", \"다고\", \"으면\", \"완전\", \"스럽\", \"다는\", \"하나\", \"라는\", \"정도\", \"아야\",\n",
    "    \"그렇\", \"에게\", \"다가\", \"아요\", \"부터\", \"그리고\", \"는지\", \"이영화\", \"이나\", \"때문\",\n",
    "    \"대하\", \"ㄴ지\", \"ㄹ까\", \"어야\", \"무슨\", \"없이\", \"은데\", \"다니\", \"보고\", \"가장\",\n",
    "    \"어리\", \"필요\", \"ㄴ듯\", \"끝나\", \"을까\", \"위하\", \"아라\", \"어도\", \"우리\", \"가지\",\n",
    "    \"어떻\", \"모든\", \"자체\", \"아직\", \"하지만\", \"처럼\", \"빠지\", \"는다\", \"아주\", \"전혀\",\n",
    "    \"시키\", \"이제\", \"어디\", \"내내\", \"다면\", \"이거\", \"이랑\", \"모습\", \"그래도\", \"근데\",\n",
    "    \"미치\", \"누구\", \"건지\", \"ㄴ다는\", \"대단\", \"그런\", \"같이\", \"그것\", \"조금\", \"요즘\",\n",
    "    \"이다\", \"라도\", \"만큼\", \"특히\", \"죽이\", \"제대로\", \"았었\", \"한테\", \"구나\", \"니까\",\n",
    "    \"라면\", \"이유\", \"제일\", \"나름\", \"무엇\", \"려고\", \"차라리\", \"절대\", \"이란\", \"으나\",\n",
    "    \"너무나\", \"훌륭\", \"그러\", \"그리\", \"마다\", \"도대체\", \"밖에\", \"던데\", \"그저\", \"다르\",\n",
    "    \"어라\", \"지나\", \"라니\", \"생각나\", \"엄청\", \"멋있\", \"더라\", \"함께\", \"오늘\", \"결국\",\n",
    "    \"이야\", \"보니\", \"제발\", \"아무리\", \"여기\", \"완벽\", \"진정\", \"접하\", \"ㄴ걸\", \"남기\",\n",
    "    \"만나\", \"어떤\", \"ㄴ다면\", \"ㄴ다고\", \"더니\", \"나요\", \"매우\", \"어쩌\", \"이리\", \"하네\",\n",
    "    \"보지\", \"라서\", \"터지\", \"그래서\", \"짜리\", \"자기\", \"터지\", \"약간\", \"대체\", \"드리\",\n",
    "    \"그나마\", \"어느\", \"동안\", \"그대로\", \"훨씬\", \"길래\", \"돌리\", \"마라\", \"려는\", \"는가\",\n",
    "    \"아야지\", \"대로\", \"인가\", \"지도\", \"으니\", \"엄청나\", \"ㄹ수록\", \"ㄹ지\", \"에요\", \"그때\",\n",
    "    \"한편\", \"갑자기\", \"그러나\", \"잖아\", \"따위\", \"이러\", \"너무너무\", \"나서\", \"거나\",\n",
    "    \"그런지\", \"어이\", \"구만\", \"으면서\", \"충분히\", \"던가\", \"으시\", \"도록\", \"ㄹ려고\",\n",
    "    \"ㄹ게\", \"또한\", \"니다\", \"달리\", \"으며\", \"괜히\", \"더욱\", \"다루\", \"오히려\", \"가요\",\n",
    "    \"한번\", \"로서\", \"가요\", \"말이\", \"보아주\", \"는구나\", \"수도\", \"간다\", \"ㅂ시다\", \"어찌\",\n",
    "    \"랄까\", \"많이\",'이', '영화', '의', '가', '에', '을', '도', '들', '는', '를', '은', '좋', '다', '고', '지', '게', '보', '한', '너무', '적', '안', '로', '만', '음', '다고', '에서', '과', '잘', '나', '인', '것', '아', '요', '점', '더', '진짜', '않', '내', '최고', '어', '그', '없', '좀', '겠', '인데', '듯', '마음', '아깝', '이런', '이야기', '아요', '이', '그냥', '때', '뭐',\"하는\",\"하고\"\n",
    "]"
   ]
  },
  {
   "cell_type": "code",
   "execution_count": 52,
   "id": "ada9ed9c",
   "metadata": {},
   "outputs": [],
   "source": [
    "import re\n",
    "vocab = [word for word in vocab if (re.match('[가-힣]+', word) and len(word)>1 and word not in stop_words)]"
   ]
  },
  {
   "cell_type": "code",
   "execution_count": 53,
   "id": "bf754e9c",
   "metadata": {},
   "outputs": [
    {
     "name": "stdout",
     "output_type": "stream",
     "text": [
      "['<pad>', '<unk>', '연기', '평점', '생각', '스토리', '드라마', '사람', '감동', '감독']\n",
      "3994\n"
     ]
    }
   ],
   "source": [
    "\n",
    "vocab = [\"<pad>\", \"<unk>\"] + vocab\n",
    "\n",
    "token_to_id = {token: idx for idx, token in enumerate(vocab)}\n",
    "id_to_token = {idx: token for idx, token in enumerate(vocab)}\n",
    "\n",
    "print(vocab[:10])\n",
    "print(len(vocab))\n"
   ]
  },
  {
   "cell_type": "code",
   "execution_count": 54,
   "id": "6934e13b",
   "metadata": {},
   "outputs": [],
   "source": [
    "import numpy as np\n",
    "\n",
    "# 정수 인코딩 및 패딩 \n",
    "#  - sequences : 토큰화된 문장 데이터\n",
    "#  - max_length : 최대 문장길이 즉, 1개 문장 구성 단어수\n",
    "#  - pad : 패딩 처리 시 추가될 문자 값\n",
    "#  - start : 패딩 시 처리 방향[기:R 오른쪽, 뒷부분 자르기/추가하기]\n",
    "def pad_sequences(sequences, max_length, pad_value, start=\"R\"):\n",
    "    result = list()\n",
    "    for sequence in sequences:\n",
    "        sequence = sequence[:max_length] if start == \"R\" else sequence[-1*max_length:] # L이 입력되면 왼쪽을 채움(-1*max_length)\n",
    "        pad_length = max_length - len(sequence)\n",
    "        padded_sequence = sequence + [pad_value] * pad_length if start == \"R\" else  [pad_value] * pad_length + sequence # L이 입력되면 왼쪽을 채움(더하는 순서를 뒤집어주기)\n",
    "        result.append(padded_sequence)\n",
    "    return np.asarray(result)\n",
    "\n",
    "unk_id = token_to_id[\"<unk>\"]\n",
    "\n",
    "train_ids = [\n",
    "    [token_to_id.get(token, unk_id) for token in review] for review in train_tokens # 한 평가씩 읽어들여서, 한 토큰씩 아까 만든 딕셔너리를 참조하여 인덱스로 변환\n",
    "]\n",
    "test_ids = [\n",
    "    [token_to_id.get(token, unk_id) for token in review] for review in test_tokens\n",
    "]"
   ]
  },
  {
   "cell_type": "code",
   "execution_count": 55,
   "id": "3e0e83f6",
   "metadata": {},
   "outputs": [
    {
     "data": {
      "text/plain": [
       "[]"
      ]
     },
     "execution_count": 55,
     "metadata": {},
     "output_type": "execute_result"
    },
    {
     "data": {
      "image/png": "[encoded data removed]",
      "text/plain": [
       "<Figure size 640x480 with 1 Axes>"
      ]
     },
     "metadata": {},
     "output_type": "display_data"
    }
   ],
   "source": [
    "import matplotlib.pyplot as plt\n",
    "import koreanize_matplotlib\n",
    "\n",
    "train_len=[]\n",
    "for i in train_ids:\n",
    "    train_len.append(len(i))\n",
    "\n",
    "plt.hist(train_len, bins=50)\n",
    "plt.title(\"train_len 분포\")\n",
    "plt.plot()"
   ]
  },
  {
   "cell_type": "code",
   "execution_count": 56,
   "id": "b195ec26",
   "metadata": {},
   "outputs": [
    {
     "data": {
      "text/plain": [
       "[]"
      ]
     },
     "execution_count": 56,
     "metadata": {},
     "output_type": "execute_result"
    },
    {
     "data": {
      "image/png": "[encoded data removed]",
      "text/plain": [
       "<Figure size 640x480 with 1 Axes>"
      ]
     },
     "metadata": {},
     "output_type": "display_data"
    }
   ],
   "source": [
    "\n",
    "test_len=[]\n",
    "for i in test_ids:\n",
    "    test_len.append(len(i))\n",
    "\n",
    "plt.hist(test_len, bins=50)\n",
    "plt.title(\"test_len 분포\")\n",
    "plt.plot()"
   ]
  },
  {
   "cell_type": "code",
   "execution_count": 57,
   "id": "0b4a2cc3",
   "metadata": {},
   "outputs": [
    {
     "name": "stdout",
     "output_type": "stream",
     "text": [
      "[   1 1136    1 3132 1444   55  390    1    1 1642    1    1    1    1\n",
      " 3852    1    1    1    1    0    0    0    0    0    0    0    0    0\n",
      "    0    0    0    0]\n",
      "[2483    1 1368    1    1    1  565 3013    1    1    1    1    1    7\n",
      "    1    1 3715    1    0    0    0    0    0    0    0    0    0    0\n",
      "    0    0    0    0]\n"
     ]
    }
   ],
   "source": [
    "max_length = 32\n",
    "pad_id = token_to_id[\"<pad>\"]\n",
    "\n",
    "train_ids = pad_sequences(train_ids, max_length, pad_id, start=\"R\")\n",
    "test_ids = pad_sequences(test_ids, max_length, pad_id, start=\"R\")\n",
    "\n",
    "print(train_ids[0])\n",
    "print(test_ids[0])"
   ]
  },
  {
   "cell_type": "code",
   "execution_count": 58,
   "id": "906d1c0d",
   "metadata": {},
   "outputs": [],
   "source": [
    "import torch\n",
    "from torch.utils.data import TensorDataset, DataLoader\n",
    "\n",
    "# 데이터셋, 데이터 로더 생성 \n",
    "train_ids = torch.tensor(train_ids) # 인코딩된 데이터를 텐서로 변환\n",
    "test_ids = torch.tensor(test_ids)\n",
    "\n",
    "train_labels = torch.tensor(train.label.values, dtype=torch.float32) # 라벨값 데이터를 텐서로 변환 \n",
    "test_labels = torch.tensor(test.label.values, dtype=torch.float32)\n",
    "\n",
    "train_dataset = TensorDataset(train_ids, train_labels)\n",
    "test_dataset = TensorDataset(test_ids, test_labels)\n",
    "\n",
    "train_loader = DataLoader(train_dataset, batch_size=16, shuffle=True)\n",
    "test_loader = DataLoader(test_dataset, batch_size=16, shuffle=False)"
   ]
  },
  {
   "cell_type": "code",
   "execution_count": 59,
   "id": "62cc12c5",
   "metadata": {},
   "outputs": [],
   "source": [
    "from torch import optim\n",
    "\n",
    "\n",
    "n_vocab = len(token_to_id) # 총 단어 갯수 : 5002개 \n",
    "hidden_dim = 64 \n",
    "embedding_dim = 128\n",
    "n_layers = 2\n",
    "\n",
    "device = \"cuda\" if torch.cuda.is_available() else \"cpu\"\n",
    "classifier = SentenceClassifier( # 맨 처음에 만들었던, 클래스 인스턴스 생성 \n",
    "    n_vocab=n_vocab, \n",
    "    hidden_dim=hidden_dim, \n",
    "    embedding_dim=embedding_dim, \n",
    "    n_layers=n_layers\n",
    ").to(device)\n",
    "\n",
    "criterion = nn.BCEWithLogitsLoss().to(device) # 이진분류에 걸맞는 BCEWithLogitsLoss()로 손실함수 설정\n",
    "optimizer = optim.AdamW(classifier.parameters(), lr=0.001)  # 학습률이 빠른 AdamW로 옵티마이저 설정 "
   ]
  },
  {
   "cell_type": "code",
   "execution_count": 60,
   "id": "b6d36903",
   "metadata": {},
   "outputs": [
    {
     "name": "stdout",
     "output_type": "stream",
     "text": [
      "Train Loss 0 : 0.6949805021286011\n",
      "Train Loss 500 : 0.694235368403132\n",
      "Train Loss 1000 : 0.6933309756197058\n",
      "Train Loss 1500 : 0.6811958082432273\n",
      "Train Loss 2000 : 0.6567143085805969\n",
      "Train Loss 2500 : 0.6364922129728946\n",
      "Val Loss : 0.4963441309266197, Val Accuracy : 0.7542\n",
      "Train Loss 0 : 0.3675802946090698\n",
      "Train Loss 500 : 0.4825358949378579\n",
      "Train Loss 1000 : 0.47865382916146104\n",
      "Train Loss 1500 : 0.4754925906201508\n",
      "Train Loss 2000 : 0.4720368596135468\n",
      "Train Loss 2500 : 0.46786512126449775\n",
      "Val Loss : 0.4466784267475049, Val Accuracy : 0.778\n",
      "Train Loss 0 : 0.6229029297828674\n",
      "Train Loss 500 : 0.41288287484062886\n",
      "Train Loss 1000 : 0.4108634579342443\n",
      "Train Loss 1500 : 0.41291356329954443\n",
      "Train Loss 2000 : 0.41319307979421577\n",
      "Train Loss 2500 : 0.41281556173032974\n",
      "Val Loss : 0.4414752918405655, Val Accuracy : 0.7806\n",
      "Train Loss 0 : 0.2602046728134155\n",
      "Train Loss 500 : 0.359292420619976\n",
      "Train Loss 1000 : 0.3684636000153068\n",
      "Train Loss 1500 : 0.3705249474465172\n",
      "Train Loss 2000 : 0.3736402564968305\n",
      "Train Loss 2500 : 0.3746909283575226\n",
      "Val Loss : 0.44611095472837026, Val Accuracy : 0.7768\n",
      "Train Loss 0 : 0.44422435760498047\n",
      "Train Loss 500 : 0.33171011275517015\n",
      "Train Loss 1000 : 0.3271197541305176\n",
      "Train Loss 1500 : 0.3379791156524702\n",
      "Train Loss 2000 : 0.33934828084798113\n",
      "Train Loss 2500 : 0.34190944055455036\n",
      "Val Loss : 0.45080211092107975, Val Accuracy : 0.7854\n"
     ]
    }
   ],
   "source": [
    "def train(model, datasets, criterion, optimizer, device, interval):\n",
    "    model.train()\n",
    "    losses = list()\n",
    "\n",
    "    for step, (input_ids, labels) in enumerate(datasets): \n",
    "        input_ids = input_ids.to(device)\n",
    "        labels = labels.to(device).unsqueeze(1)\n",
    "\n",
    "        logits = model(input_ids)\n",
    "        loss = criterion(logits, labels)\n",
    "        losses.append(loss.item())\n",
    "\n",
    "        optimizer.zero_grad()\n",
    "        loss.backward()\n",
    "        optimizer.step()\n",
    "\n",
    "        if step % interval == 0:\n",
    "            print(f\"Train Loss {step} : {np.mean(losses)}\")\n",
    "\n",
    "\n",
    "def test(model, datasets, criterion, device):\n",
    "    model.eval()\n",
    "    losses = list()\n",
    "    corrects = list()\n",
    "\n",
    "    for step, (input_ids, labels) in enumerate(datasets):\n",
    "        input_ids = input_ids.to(device)\n",
    "        labels = labels.to(device).unsqueeze(1)\n",
    "\n",
    "        logits = model(input_ids)\n",
    "        loss = criterion(logits, labels)\n",
    "        losses.append(loss.item())\n",
    "        yhat = torch.sigmoid(logits)>.5\n",
    "        corrects.extend(\n",
    "            torch.eq(yhat, labels).cpu().tolist()\n",
    "        )\n",
    "\n",
    "    print(f\"Val Loss : {np.mean(losses)}, Val Accuracy : {np.mean(corrects)}\")\n",
    "\n",
    "\n",
    "epochs = 5\n",
    "interval = 500\n",
    "\n",
    "for epoch in range(epochs):\n",
    "    train(classifier, train_loader, criterion, optimizer, device, interval)\n",
    "    test(classifier, test_loader, criterion, device)"
   ]
  },
  {
   "cell_type": "code",
   "execution_count": 61,
   "id": "c7f44b9f",
   "metadata": {},
   "outputs": [
    {
     "name": "stdout",
     "output_type": "stream",
     "text": [
      "그걸 [ 0.43552998  1.4229215  -1.6852924   0.5155019  -0.05876175  0.51151663\n",
      "  1.4164498   0.41891292 -0.08484944  0.8717505  -0.12717232  1.4572483\n",
      " -0.8835179  -1.2947593   0.5007012   1.7626926   0.13984197 -1.0996906\n",
      "  0.44001126  1.329247    1.4889665  -1.7276891  -0.80817056  0.6485157\n",
      "  0.22799537 -0.05622512  1.2707144   1.096192   -0.39640293  0.50538975\n",
      "  0.45463958  0.76028997  0.7810135   1.1038017  -1.2611519  -0.29863858\n",
      " -0.37108147 -0.57815707 -0.60276866  0.13900699  0.2965498   1.1368778\n",
      " -1.1015035   0.85699415  0.16304137 -0.4308938  -0.4335563   0.49657187\n",
      "  1.3998777   0.45722497  0.674123   -1.6700646  -0.5938373  -1.5707697\n",
      " -0.62274575  0.8953141   0.1310051  -0.94871867  0.44920987  1.3852931\n",
      "  0.47923502 -0.11259961  0.33066845  0.6772478  -0.20178074 -0.45546636\n",
      " -0.76551723  1.179208    1.0098587  -0.07192725 -1.3664426  -1.1778498\n",
      "  1.4440747  -0.16399644  0.22075766  0.5821654   0.48305854  0.29553893\n",
      "  0.9545603  -0.12615527 -1.369081    0.24893567 -0.4451272   2.643059\n",
      " -0.676336   -1.6934869   0.03599789  1.4662387   0.30336773 -0.7643803\n",
      " -0.06995998 -1.0604419   2.0886385  -1.6582965   0.40344512 -2.1420932\n",
      " -0.31474295  0.18857598 -1.0845007  -1.4743062  -1.6239868   1.5117425\n",
      "  1.7627715   0.2037315   0.9072262  -0.11110079 -0.54653686 -0.17346643\n",
      "  1.4565883   0.7009859  -0.45011652 -0.25646585  1.0304242  -0.8763884\n",
      "  0.38479453  0.9663491   1.1672505   1.5397159   0.787874   -0.13546528\n",
      "  0.2724927  -1.305103    1.1235267  -0.18038638 -0.81061393  0.66043603\n",
      "  0.08685759  0.52031267]\n"
     ]
    }
   ],
   "source": [
    "token_to_embedding = dict()\n",
    "embedding_matrix = classifier.embedding.weight.detach().cpu().numpy()\n",
    "\n",
    "for word, emb in zip(vocab, embedding_matrix):\n",
    "    token_to_embedding[word] = emb\n",
    "\n",
    "token = vocab[1000] # 특정 단어를 갖고옴 \n",
    "print(token, token_to_embedding[token])"
   ]
  },
  {
   "cell_type": "code",
   "execution_count": null,
   "id": "fa8d6dcd",
   "metadata": {},
   "outputs": [],
   "source": []
  },
  {
   "cell_type": "code",
   "execution_count": null,
   "id": "cd34d3ba",
   "metadata": {},
   "outputs": [],
   "source": []
  },
  {
   "cell_type": "code",
   "execution_count": null,
   "id": "b9e0a0de",
   "metadata": {},
   "outputs": [],
   "source": []
  },
  {
   "cell_type": "code",
   "execution_count": null,
   "id": "e9b5fa86",
   "metadata": {},
   "outputs": [],
   "source": []
  }
 ],
 "metadata": {
  "kernelspec": {
   "display_name": "Python 3 (ipykernel)",
   "language": "python",
   "name": "python3"
  },
  "language_info": {
   "codemirror_mode": {
    "name": "ipython",
    "version": 3
   },
   "file_extension": ".py",
   "mimetype": "text/x-python",
   "name": "python",
   "nbconvert_exporter": "python",
   "pygments_lexer": "ipython3",
   "version": "3.8.19"
  }
 },
 "nbformat": 4,
 "nbformat_minor": 5
}
