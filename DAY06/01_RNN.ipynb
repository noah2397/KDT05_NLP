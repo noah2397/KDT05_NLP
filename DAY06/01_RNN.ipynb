{
 "cells": [
  {
   "cell_type": "code",
   "execution_count": 22,
   "metadata": {},
   "outputs": [],
   "source": [
    "import torch.nn as nn\n",
    "import torch\n",
    "import numpy as np\n",
    "from torchinfo import summary"
   ]
  },
  {
   "cell_type": "code",
   "execution_count": 23,
   "metadata": {},
   "outputs": [
    {
     "data": {
      "text/plain": [
       "(torch.Size([7, 10, 20]), torch.Size([3, 10, 20]))"
      ]
     },
     "execution_count": 23,
     "metadata": {},
     "output_type": "execute_result"
    }
   ],
   "source": [
    "input = torch.randn(7, 10, 10) # 시퀸스(=1문장당 단어수),      배치사이즈(=시퀸스길이, 문장 수) , 피쳐수(=단어 종류 개수)\n",
    "\n",
    "h0 = torch.randn(3, 10, 20)    # 양방향*층수(=은닉 상태 개수), 배치사이즈(=시퀸스길이, 문장 수),  히든사이즈(=셀개수)\n",
    "\n",
    "rnn = nn.RNN(10, 20, 3)        # 피쳐수(=단어 종류 개수),      히든사이즈(=셀개수),              양방향*층수(=은닉 상태 개수)\n",
    "\n",
    "output, hn = rnn(input, h0)\n",
    "output.shape, hn.shape "
   ]
  },
  {
   "cell_type": "code",
   "execution_count": 39,
   "metadata": {},
   "outputs": [
    {
     "name": "stdout",
     "output_type": "stream",
     "text": [
      "input.shape : torch.Size([2, 3, 10])    , output.shape : torch.Size([2, 3, 4])\n",
      "tensor([[[ 0.6722,  0.0858, -0.1258,  0.8562],\n",
      "         [ 0.7145,  0.2114,  0.6892, -0.5377],\n",
      "         [-0.6440, -0.0031,  0.8910,  0.8238]],\n",
      "\n",
      "        [[-0.1876, -0.6413, -0.6183,  0.7742],\n",
      "         [-0.8032, -0.7063, -0.2034, -0.5350],\n",
      "         [-0.1307, -0.8966, -0.7308,  0.9648]]], grad_fn=<TransposeBackward1>) \n",
      "\n",
      "\n",
      " tensor([[[-0.6440, -0.0031,  0.8910,  0.8238],\n",
      "         [-0.1307, -0.8966, -0.7308,  0.9648]]], grad_fn=<StackBackward0>)\n"
     ]
    }
   ],
   "source": [
    "BATCH_SIZE = 2 # 문장 개수(면)\n",
    "SEQ_LENGTH = 3 # 1문장당 단어 수(행)\n",
    "INPUT_SIZE = 10 # 단어 사전에서 단어 개수(열, One-Hot Encoding)\n",
    "\n",
    "NUM_LAYERS = 1 # RNN 층 개수\n",
    "HIDDEN_SIZE = 4 # RNN 셀 개수\n",
    "\n",
    "input = torch.randn( BATCH_SIZE, SEQ_LENGTH, INPUT_SIZE )\n",
    "h0  =  torch.randn( NUM_LAYERS, BATCH_SIZE, HIDDEN_SIZE )\n",
    "rnn = nn.RNN(INPUT_SIZE, HIDDEN_SIZE, NUM_LAYERS, batch_first=True)\n",
    "output, hn = rnn(input, h0)\n",
    "\n",
    "print(f\"input.shape : {input.shape}    , output.shape : {output.shape}\")\n",
    "print(output,\"\\n\\n\\n\", hn)"
   ]
  },
  {
   "cell_type": "code",
   "execution_count": 35,
   "metadata": {},
   "outputs": [
    {
     "name": "stdout",
     "output_type": "stream",
     "text": [
      "[weight_ih_l0] : torch.Size([4, 10])\n",
      "[weight_hh_l0] : torch.Size([4, 4])\n",
      "[bias_ih_l0] : torch.Size([4])\n",
      "[bias_hh_l0] : torch.Size([4])\n"
     ]
    }
   ],
   "source": [
    "## rnn 모델의 속성 출력\n",
    "# 셀들은 서로 주고받아서 셀의 개수^2만큼 파라미터가 생긴다\n",
    "for name, param in rnn.named_parameters():\n",
    "    print(f'[{name}] : {param.size()}')"
   ]
  },
  {
   "cell_type": "code",
   "execution_count": 36,
   "metadata": {},
   "outputs": [
    {
     "data": {
      "text/plain": [
       "=================================================================\n",
       "Layer (type:depth-idx)                   Param #\n",
       "=================================================================\n",
       "RNN                                      64\n",
       "=================================================================\n",
       "Total params: 64\n",
       "Trainable params: 64\n",
       "Non-trainable params: 0\n",
       "================================================================="
      ]
     },
     "execution_count": 36,
     "metadata": {},
     "output_type": "execute_result"
    }
   ],
   "source": [
    "summary(model=rnn)"
   ]
  }
 ],
 "metadata": {
  "kernelspec": {
   "display_name": "TEXT_017_220_38",
   "language": "python",
   "name": "python3"
  },
  "language_info": {
   "codemirror_mode": {
    "name": "ipython",
    "version": 3
   },
   "file_extension": ".py",
   "mimetype": "text/x-python",
   "name": "python",
   "nbconvert_exporter": "python",
   "pygments_lexer": "ipython3",
   "version": "3.8.19"
  }
 },
 "nbformat": 4,
 "nbformat_minor": 2
}
